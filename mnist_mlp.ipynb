{
 "cells": [
  {
   "cell_type": "code",
   "execution_count": 1,
   "metadata": {
    "collapsed": true
   },
   "outputs": [],
   "source": [
    "import DeepLearningPython35.mnist_loader as mnist_loader\n",
    "import DeepLearningPython35.network as network"
   ]
  },
  {
   "cell_type": "code",
   "execution_count": 2,
   "metadata": {},
   "outputs": [],
   "source": [
    "training_data, validation_data, test_data = mnist_loader.load_data_wrapper()\n",
    "training_data = list(training_data)\n",
    "test_data = list(test_data)"
   ]
  },
  {
   "cell_type": "code",
   "execution_count": null,
   "metadata": {},
   "outputs": [
    {
     "name": "stdout",
     "output_type": "stream",
     "text": [
      "Epoch 0 complete\n",
      "Epoch 1 complete\n",
      "Epoch 2 complete\n"
     ]
    }
   ],
   "source": [
    "net = network.Network([784, 30, 10])\n",
    "net.SGD(training_data, 30, 10, 3.0)"
   ]
  },
  {
   "cell_type": "code",
   "execution_count": 106,
   "metadata": {},
   "outputs": [],
   "source": [
    "test_data_by_labels = [[element for element in test_data if element[1] == i] \\\n",
    "                        for i in range(10)]"
   ]
  },
  {
   "cell_type": "code",
   "execution_count": 121,
   "metadata": {},
   "outputs": [
    {
     "name": "stdout",
     "output_type": "stream",
     "text": [
      "label 0: 98.16%\n",
      "label 1: 97.89%\n",
      "label 2: 94.38%\n",
      "label 3: 95.74%\n",
      "label 4: 96.74%\n",
      "label 5: 92.60%\n",
      "label 6: 96.24%\n",
      "label 7: 94.75%\n",
      "label 8: 94.76%\n",
      "label 9: 92.47%\n"
     ]
    }
   ],
   "source": [
    "for i in range(len(test_data_by_labels)):\n",
    "    curr_label_eval = net.evaluate(test_data=test_data_by_labels[i])\n",
    "    print('label ' + str(i) + ': ' + \\\n",
    "          '{0:.2f}'.format(100 * curr_label_eval/len(test_data_by_labels[i])) + \\\n",
    "          '%')"
   ]
  },
  {
   "cell_type": "code",
   "execution_count": null,
   "metadata": {
    "collapsed": true
   },
   "outputs": [],
   "source": []
  }
 ],
 "metadata": {
  "kernelspec": {
   "display_name": "Python 3",
   "language": "python",
   "name": "python3"
  },
  "language_info": {
   "codemirror_mode": {
    "name": "ipython",
    "version": 3
   },
   "file_extension": ".py",
   "mimetype": "text/x-python",
   "name": "python",
   "nbconvert_exporter": "python",
   "pygments_lexer": "ipython3",
   "version": "3.5.0"
  }
 },
 "nbformat": 4,
 "nbformat_minor": 2
}
