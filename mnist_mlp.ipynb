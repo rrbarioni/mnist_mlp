{
 "cells": [
  {
   "cell_type": "markdown",
   "metadata": {},
   "source": [
    "## Firstly, import the required dependencies"
   ]
  },
  {
   "cell_type": "code",
   "execution_count": 1,
   "metadata": {
    "collapsed": true
   },
   "outputs": [],
   "source": [
    "import DeepLearningPython35.mnist_loader as mnist_loader\n",
    "import DeepLearningPython35.network as network"
   ]
  },
  {
   "cell_type": "markdown",
   "metadata": {},
   "source": [
    "## From mnist_loader, gather the training, validation and test data\n",
    "Each data is structured as a tuple of two elements, as follows: The first element of the tuple contains information about the image, while the second element contains the label of that tuple.\n",
    "\n",
    "In the case of this dataset, the label tells the number (0 to 9) that the image represents."
   ]
  },
  {
   "cell_type": "code",
   "execution_count": 2,
   "metadata": {
    "collapsed": true
   },
   "outputs": [],
   "source": [
    "training_data, validation_data, test_data = mnist_loader.load_data_wrapper()\n",
    "training_data = list(training_data)"
   ]
  },
  {
   "cell_type": "markdown",
   "metadata": {},
   "source": [
    "## From network, perform MLP training;"
   ]
  },
  {
   "cell_type": "code",
   "execution_count": 3,
   "metadata": {},
   "outputs": [
    {
     "name": "stdout",
     "output_type": "stream",
     "text": [
      "Epoch 0 complete\n",
      "Epoch 1 complete\n",
      "Epoch 2 complete\n"
     ]
    }
   ],
   "source": [
    "net = network.Network([784, 30, 10])\n",
    "net.SGD(training_data, 3, 10, 3.0)"
   ]
  },
  {
   "cell_type": "markdown",
   "metadata": {},
   "source": [
    "For the evaluation of the trained network, divide the dataset by the image's label.\n",
    "\n",
    "In this case, the whole test dataset is divided into ten subsets."
   ]
  },
  {
   "cell_type": "code",
   "execution_count": 4,
   "metadata": {
    "collapsed": true
   },
   "outputs": [],
   "source": [
    "test_data = list(test_data)\n",
    "test_data_by_labels = [[element for element in test_data if element[1] == i] \\\n",
    "                        for i in range(10)]"
   ]
  },
  {
   "cell_type": "markdown",
   "metadata": {},
   "source": [
    "For each subset, its accuracy is calculated. For that, the image is used as a input into the network, so that we can compare the net's output with the ground-truth.\n",
    "\n",
    "With that, we can calculate the accuracy of the network for each of the ten subsets."
   ]
  },
  {
   "cell_type": "code",
   "execution_count": 5,
   "metadata": {},
   "outputs": [
    {
     "name": "stdout",
     "output_type": "stream",
     "text": [
      "label 0: 942 / 980 ( 96.12% )\n",
      "label 1: 1105 / 1135 ( 97.36% )\n",
      "label 2: 919 / 1032 ( 89.05% )\n",
      "label 3: 901 / 1010 ( 89.21% )\n",
      "label 4: 918 / 982 ( 93.48% )\n",
      "label 5: 813 / 892 ( 91.14% )\n",
      "label 6: 920 / 958 ( 96.03% )\n",
      "label 7: 942 / 1028 ( 91.63% )\n",
      "label 8: 912 / 974 ( 93.63% )\n",
      "label 9: 923 / 1009 ( 91.48% )\n"
     ]
    }
   ],
   "source": [
    "for i in range(len(test_data_by_labels)):\n",
    "    curr_label_eval = net.evaluate(test_data=test_data_by_labels[i])\n",
    "    print('label ' + str(i) + ': ' + \\\n",
    "          str(curr_label_eval) + ' / ' + str(len(test_data_by_labels[i])) + \\\n",
    "          ' ( ' + \\\n",
    "          '{0:.2f}'.format(100 * curr_label_eval/len(test_data_by_labels[i])) + \\\n",
    "          '% )')"
   ]
  },
  {
   "cell_type": "code",
   "execution_count": 8,
   "metadata": {},
   "outputs": [
    {
     "data": {
      "text/plain": [
       "0"
      ]
     },
     "execution_count": 8,
     "metadata": {},
     "output_type": "execute_result"
    }
   ],
   "source": [
    "test_data_by_labels[0][2][1]"
   ]
  },
  {
   "cell_type": "code",
   "execution_count": null,
   "metadata": {
    "collapsed": true
   },
   "outputs": [],
   "source": []
  }
 ],
 "metadata": {
  "kernelspec": {
   "display_name": "Python 3",
   "language": "python",
   "name": "python3"
  },
  "language_info": {
   "codemirror_mode": {
    "name": "ipython",
    "version": 3
   },
   "file_extension": ".py",
   "mimetype": "text/x-python",
   "name": "python",
   "nbconvert_exporter": "python",
   "pygments_lexer": "ipython3",
   "version": "3.5.0"
  }
 },
 "nbformat": 4,
 "nbformat_minor": 2
}
